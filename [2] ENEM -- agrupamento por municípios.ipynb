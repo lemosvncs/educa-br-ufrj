{
 "cells": [
  {
   "cell_type": "code",
   "execution_count": 4,
   "metadata": {
    "collapsed": false,
    "scrolled": true
   },
   "outputs": [],
   "source": [
    "library(dplyr)\n",
    "#library(fastmatch)\n",
    "\n",
    "setwd(\"~/TCC/Working/Nov2016\")\n",
    "#enem14 <- read.csv2(\"[1]enem14--v3--15-11-2016.csv\")\n",
    "enem14 <- read.csv2(\"[1]enem14Publica--v3--15-11-2016.csv\")\n",
    "#enem14 <- read.csv2(\"enem14Estadual--v2--10-11-20166.csv\")\n",
    "#enem14 <- read.csv2(\"enem14Municipal--v2--10-11-2016.csv\")\n",
    "#enem14 <- read.csv2(\"enem14Federal--v2--10-11-2016.csv\")\n",
    "#enem14 <- read.csv2(\"[1]enem14Privada--v3--15-11-2016.csv\")"
   ]
  },
  {
   "cell_type": "code",
   "execution_count": 5,
   "metadata": {
    "collapsed": false
   },
   "outputs": [
    {
     "data": {
      "text/html": [
       "<ol class=list-inline>\n",
       "\t<li>'1'</li>\n",
       "\t<li>'2'</li>\n",
       "\t<li>'3'</li>\n",
       "</ol>\n"
      ],
      "text/latex": [
       "\\begin{enumerate*}\n",
       "\\item '1'\n",
       "\\item '2'\n",
       "\\item '3'\n",
       "\\end{enumerate*}\n"
      ],
      "text/markdown": [
       "1. '1'\n",
       "2. '2'\n",
       "3. '3'\n",
       "\n",
       "\n"
      ],
      "text/plain": [
       "[1] \"1\" \"2\" \"3\""
      ]
     },
     "metadata": {},
     "output_type": "display_data"
    }
   ],
   "source": [
    "#BASE----\n",
    "\n",
    "dfEnem <- as.factor(enem14$COD_MUNICIPIO_RESIDENCIA)\n",
    "dfEnem <- sort(dfEnem)\n",
    "dfEnem <- matrix(dfEnem)\n",
    "dfEnem <- unique(dfEnem)\n",
    "dfEnem <- data.frame(dfEnem)\n",
    "\n",
    "levels(as.factor(enem14$ID_DEPENDENCIA_ADM_ESC))\n",
    "#dfEnem[, 2:5] <- table(enem14$COD_MUNICIPIO_RESIDENCIA, enem14$ID_DEPENDENCIA_ADM_ESC) #DESMARCAR SOMENTE SE FOR TRABALHAR COM OS DADOS GERAIS\n",
    "dfEnem[, 2:5] <- NA #USAR SE OS DADOS JÁ ESTIVEREM SEPARADOS POR CATEGORIA ADMINISTRATIVA\n",
    "dfEnem[, 6:7] <- table(enem14$COD_MUNICIPIO_RESIDENCIA, enem14$TP_SEXO)\n",
    "dfEnem[, 8:13] <- table(enem14$COD_MUNICIPIO_RESIDENCIA, enem14$TP_COR_RACA) #0 1 2 3 4 5\n",
    "dfEnem[, 14:15] <- table(enem14$COD_MUNICIPIO_RESIDENCIA, enem14$TP_LINGUA)\n",
    "colnames(dfEnem)[2:15] <- c(\"ID_ADM_1\",\"ID_ADM_2\", \"ID_ADM_3\", \"ID_ADM_4\", \"TP_SEXO_0\", \"TP_SEXO_1\", \"TP_COR_RACA_0\",\n",
    "                        \"TP_COR_RACA_1\", \"TP_COR_RACA_2\", \"TP_COR_RACA_3\",\"TP_COR_RACA_4\", \"TP_COR_RACA_5\",\n",
    "                        \"TP_LINGUA_0\", \"TP_LINGUA_1\")\n",
    "\n",
    "mdp <- enem14%>%\n",
    "  group_by(COD_MUNICIPIO_RESIDENCIA)%>%\n",
    "  summarise(mean(NOTA_CN), sd(NOTA_CN))\n",
    "dfEnem[,16:17] <- mdp[,2:3]\n",
    "mdp <- NULL\n",
    "\n",
    "mdp <- enem14%>%\n",
    "  group_by(COD_MUNICIPIO_RESIDENCIA)%>%\n",
    "  summarise(mean(NOTA_CH), sd(NOTA_CH))\n",
    "dfEnem[,18:19] <- mdp[,2:3]\n",
    "mdp <- NULL\n",
    "\n",
    "mdp <- enem14%>%\n",
    "  group_by(COD_MUNICIPIO_RESIDENCIA)%>%\n",
    "  summarise(mean(NOTA_MT), sd(NOTA_MT))\n",
    "dfEnem[,20:21] <- mdp[,2:3]\n",
    "mdp <- NULL\n",
    "\n",
    "mdp <- enem14%>%\n",
    "  group_by(COD_MUNICIPIO_RESIDENCIA)%>%\n",
    "  summarise(mean(NOTA_LC), sd(NOTA_LC))\n",
    "dfEnem[,22:23] <- mdp[,2:3]\n",
    "mdp <- NULL\n",
    "\n",
    "mdp <- enem14%>%\n",
    "  group_by(COD_MUNICIPIO_RESIDENCIA)%>%\n",
    "  summarise(mean(NU_NOTA_REDACAO), sd(NU_NOTA_REDACAO))\n",
    "dfEnem[,24:25] <- mdp[,2:3]\n",
    "mdp <- NULL\n",
    "\n",
    "colnames(dfEnem)[16:25] <- c(\"MEAN_NOTA_CN\", \"SD_NOTA_CN\", \"MEAN_NOTA_CH\", \"SD_NOTA_CH\", \"MEAN_NOTA_MT\", \"SD_NOTA_MT\",\n",
    "                         \"MEAN_NOTA_LC\", \"SD_NOTA_LC\", \"MEAN_NOTA_REDACAO\", \"SD_NOTA_REDACAO\")\n",
    "\n",
    "dfEnem[,26] <- dfEnem$MEAN_NOTA_CN/dfEnem$SD_NOTA_CN\n",
    "dfEnem[,27] <- dfEnem$MEAN_NOTA_CH/dfEnem$SD_NOTA_CH\n",
    "dfEnem[,28] <- dfEnem$MEAN_NOTA_MT/dfEnem$SD_NOTA_MT\n",
    "dfEnem[,29] <- dfEnem$MEAN_NOTA_LC/dfEnem$SD_NOTA_LC\n",
    "dfEnem[,30] <- dfEnem$MEAN_NOTA_REDACAO/dfEnem$SD_NOTA_REDACAO\n",
    "colnames(dfEnem)[26:30] <- c(\"NOTA_CN_INDEX\", \"NOTA_CH_INDEX\", \"NOTA_MT_INDEX\", \"NOTA_LC_INDEX\", \"NOTA_REDACAO_INDEX\")"
   ]
  },
  {
   "cell_type": "code",
   "execution_count": 6,
   "metadata": {
    "collapsed": true
   },
   "outputs": [],
   "source": [
    "write.csv2(dfEnem, \"[2]enem14--Publica--v1--15-11-2016.csv\")\n",
    "#write.csv2(dfEnem, \"[2]enem14--Privada--v1--15-11-2016.csv\")\n",
    "#write.csv2(dfEnem, \"[2]enem14--Federal--v1--15-11-2016.csv\")\n",
    "#write.csv2(dfEnem, \"[2]enem14--Estadual--v1--15-11-2016.csv\")\n",
    "#write.csv2(dfEnem, \"[2]enem14--Municipal--v1--15-11-2016.csv\")"
   ]
  },
  {
   "cell_type": "markdown",
   "metadata": {},
   "source": [
    "## CONTINUAR SOMENTE SE NÃO FOREM DADOS SEPARADOS POR CATEGORIA ADMINISTRATIVA"
   ]
  },
  {
   "cell_type": "code",
   "execution_count": null,
   "metadata": {
    "collapsed": true
   },
   "outputs": [],
   "source": [
    "#FUNÇÕES----\n",
    "porc <- function(a, b)\n",
    "{\n",
    "  total <- a+b\n",
    "  return(a*100/total)\n",
    "}\n",
    "\n",
    "porc4 <- function(a, b, c, d)\n",
    "{\n",
    "  total <- a+b+c+d\n",
    "  return(a*100/total)\n",
    "}\n",
    "\n",
    "porc3 <- function(a, b, c)\n",
    "{\n",
    "  total <- a+b+c\n",
    "  return(a*100/total)\n",
    "}\n",
    "\n",
    "porc6 <- function(a, b, c, d, e, f)\n",
    "{\n",
    "  total <- a+b+c+d+e+f\n",
    "  return(a*100/total)\n",
    "}"
   ]
  },
  {
   "cell_type": "code",
   "execution_count": null,
   "metadata": {
    "collapsed": true
   },
   "outputs": [],
   "source": [
    "dfEnem[, 31] <- scale(dfEnem$NOTA_CN_INDEX)\n",
    "dfEnem[, 32] <- scale(dfEnem$NOTA_CH_INDEX)\n",
    "dfEnem[, 33] <- scale(dfEnem$NOTA_MT_INDEX)\n",
    "dfEnem[, 34] <- scale(dfEnem$NOTA_LC_INDEX)\n",
    "dfEnem[, 35] <- scale(dfEnem$NOTA_REDACAO_INDEX)\n",
    "\n",
    "#PORCENTAGEM e Z----\n",
    "fenem <- as.factor(enem14$COD_MUNICIPIO_RESIDENCIA)\n",
    "fenem <- sort(fenem)\n",
    "fenem <- matrix(fenem)\n",
    "fenem <- unique(fenem)\n",
    "fenem <- data.frame(fenem)\n",
    "\n",
    "fenem[,2] <- porc4(dfEnem$ID_ADM_1, dfEnem$ID_ADM_2, dfEnem$ID_ADM_3, dfEnem$ID_ADM_4)\n",
    "fenem[,3] <- porc4(dfEnem$ID_ADM_2, dfEnem$ID_ADM_1, dfEnem$ID_ADM_3, dfEnem$ID_ADM_4)\n",
    "fenem[,4] <- porc4(dfEnem$ID_ADM_3, dfEnem$ID_ADM_2, dfEnem$ID_ADM_1, dfEnem$ID_ADM_4)\n",
    "fenem[,5] <- porc4(dfEnem$ID_ADM_4, dfEnem$ID_ADM_2, dfEnem$ID_ADM_3, dfEnem$ID_ADM_1)\n",
    "fenem[,6] <- porc(dfEnem$TP_SEXO_1, dfEnem$TP_SEXO_0)\n",
    "fenem[,7] <- porc6(dfEnem$TP_COR_RACA_0, dfEnem$TP_COR_RACA_1, dfEnem$TP_COR_RACA_2, dfEnem$TP_COR_RACA_3, dfEnem$TP_COR_RACA_4, dfEnem$TP_COR_RACA_5)\n",
    "fenem[,8] <- porc6(dfEnem$TP_COR_RACA_1, dfEnem$TP_COR_RACA_0, dfEnem$TP_COR_RACA_2, dfEnem$TP_COR_RACA_3, dfEnem$TP_COR_RACA_4, dfEnem$TP_COR_RACA_5)\n",
    "fenem[,9] <- porc6(dfEnem$TP_COR_RACA_2, dfEnem$TP_COR_RACA_1, dfEnem$TP_COR_RACA_0, dfEnem$TP_COR_RACA_3, dfEnem$TP_COR_RACA_4, dfEnem$TP_COR_RACA_5)\n",
    "fenem[,10] <- porc6(dfEnem$TP_COR_RACA_3, dfEnem$TP_COR_RACA_1, dfEnem$TP_COR_RACA_2, dfEnem$TP_COR_RACA_0, dfEnem$TP_COR_RACA_4, dfEnem$TP_COR_RACA_5)\n",
    "fenem[,11] <- porc6(dfEnem$TP_COR_RACA_4, dfEnem$TP_COR_RACA_1, dfEnem$TP_COR_RACA_2, dfEnem$TP_COR_RACA_3, dfEnem$TP_COR_RACA_0, dfEnem$TP_COR_RACA_5)\n",
    "fenem[,12] <- porc6(dfEnem$TP_COR_RACA_5, dfEnem$TP_COR_RACA_1, dfEnem$TP_COR_RACA_2, dfEnem$TP_COR_RACA_3, dfEnem$TP_COR_RACA_4, dfEnem$TP_COR_RACA_0)\n",
    "fenem[,13] <- porc(dfEnem$TP_LINGUA_1, dfEnem$TP_LINGUA_0)\n",
    "\n",
    "fenem[, 14] <- scale(na_if(dfEnem$NOTA_CN_INDEX, Inf))\n",
    "fenem[, 15] <- scale(na_if(dfEnem$NOTA_CH_INDEX, Inf))\n",
    "fenem[, 16] <- scale(na_if(dfEnem$NOTA_MT_INDEX, Inf))\n",
    "fenem[, 17] <- scale(na_if(dfEnem$NOTA_LC_INDEX, Inf))\n",
    "fenem[, 18] <- scale(na_if(dfEnem$NOTA_REDACAO_INDEX, Inf))\n",
    "\n",
    "colnames(fenem)[1:18] <- c(\"municipios\", \"adm1\", \"adm2\", \"adm3\", \"adm4\", \"sexo1\", \"raca0\", \"raca1\", \"raca2\", \"raca3\", \"raca4\", \"raca5\", \"lingua1\", \"znotaCN\",\n",
    "                     \"znotaCH\", \"znotaMT\", \"znotaLC\", \"znotaredacao\")\n",
    "\n",
    "#SALVANDO----\n",
    "#write.csv2(fenem, \"enem14--FINAL--v1--10-11-2016.csv\")\n",
    "\n"
   ]
  }
 ],
 "metadata": {
  "kernelspec": {
   "display_name": "R",
   "language": "R",
   "name": "ir"
  },
  "language_info": {
   "codemirror_mode": "r",
   "file_extension": ".r",
   "mimetype": "text/x-r-source",
   "name": "R",
   "pygments_lexer": "r",
   "version": "3.3.0"
  }
 },
 "nbformat": 4,
 "nbformat_minor": 1
}
