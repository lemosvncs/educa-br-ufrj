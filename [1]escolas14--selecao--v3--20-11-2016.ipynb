{
 "cells": [
  {
   "cell_type": "markdown",
   "metadata": {},
   "source": [
    "O arquivo com os dados das escolas podem ser baixados através do portal dados.gov.br:\n",
    "http://dados.gov.br/dataset/microdados-do-censo-escolar\n",
    "Apesar do banco mais atual ser de 2015, utilizaremos os dados de 2014, pois é o ano mais atual disponível para o ENEM.\n",
    "Após descompactado, os dados sobre as escolas estão na pasta \"Censo Escolar Educação Básica 2014/DADOS\", em formato .csv\n",
    "Para lê-lo basta delimitar o separador como \"|\", e usar o argumento \"header=T\", para manter os nomes de variáveis."
   ]
  },
  {
   "cell_type": "code",
   "execution_count": 1,
   "metadata": {
    "collapsed": true
   },
   "outputs": [],
   "source": [
    "setwd(\"~/TCC/Dados/Censo Escolar Educação Básica 2014/DADOS\")\n",
    "escolas14 <- read.table(\"ESCOLAS.csv\", sep=\"|\", header = T)"
   ]
  },
  {
   "cell_type": "markdown",
   "metadata": {},
   "source": [
    "### Escolhendo os casos\n",
    "\n",
    "Iremos selecionar os casos referentes às escolas que se identificaram como ensino médio profissional, regular, normal ou integrado. Além disso, serão selecionadas somente escolas com situação de funcionalmento = 1"
   ]
  },
  {
   "cell_type": "code",
   "execution_count": 7,
   "metadata": {
    "collapsed": true
   },
   "outputs": [],
   "source": [
    "escolas14 <- subset(escolas14, DESC_SITUACAO_FUNCIONAMENTO==1) #n == 190553\n",
    "escolas14 <- subset(escolas14,  ID_REG_MEDIO_PROF == 1 | ID_REG_MEDIO_MEDIO == 1| \n",
    "                                ID_REG_MEDIO_NORMAL == 1 | ID_REG_MEDIO_INTEGRADO == 1) #=30822"
   ]
  },
  {
   "cell_type": "markdown",
   "metadata": {},
   "source": [
    "### Escolhendo as variáveis utilizadas\n",
    "Serão escolhidas as variáveis com algum aspecto didádito, além de variáveis necessárias para juntar os bancos (Estado, município, etc.)"
   ]
  },
  {
   "cell_type": "code",
   "execution_count": 2,
   "metadata": {
    "collapsed": true
   },
   "outputs": [],
   "source": [
    "#ESCOLHENDO VARIÁVEIS----\n",
    "#nv <- colnames(escolas14)\n",
    "vars <- c(\"DESC_SITUACAO_FUNCIONAMENTO\", \"FK_COD_ESTADO\", \"FK_COD_MUNICIPIO\", \"ID_DEPENDENCIA_ADM\", \"DESC_CATEGORIA_ESCOLA_PRIVADA\", \n",
    "\"ID_LOCAL_FUNC_PREDIO_ESCOLAR\", \"ID_LABORATORIO_INFORMATICA\", \"ID_LABORATORIO_CIENCIAS\", \"ID_SALA_ATENDIMENTO_ESPECIAL\",\n",
    "\"ID_QUADRA_ESPORTES_COBERTA\", \"ID_QUADRA_ESPORTES_DESCOBERTA\", \"ID_BIBLIOTECA\", \"ID_SALA_LEITURA\", \n",
    "\"ID_DEPENDENCIAS_PNE\",\n",
    "\"ID_REFEITORIO\", \"ID_PATIO_COBERTO\", \"ID_PATIO_DESCOBERTO\", \"ID_AREA_VERDE\", \"NUM_SALAS_EXISTENTES\", \"NUM_SALAS_UTILIZADAS\",\n",
    "\"NUM_EQUIP_TV\", \"NUM_EQUIP_DVD\", \"NUM_EQUIP_COPIADORA\", \"NUM_EQUIP_RETRO\", \"NUM_EQUIP_IMPRESSORA\", \n",
    "\"NUM_EQUIP_SOM\", \"NUM_EQUIP_MULTIMIDIA\", \"NUM_COMPUTADORES\", \"NUM_COMP_ADMINISTRATIVOS\", \"NUM_COMP_ALUNOS\", \n",
    "\"ID_INTERNET\", \"ID_BANDA_LARGA\", \"NUM_FUNCIONARIOS\", \"ID_ALIMENTACAO\", \"ID_AEE\",\n",
    "\"ID_MOD_ATIV_COMPLEMENTAR\",\n",
    "\"ID_MATERIAL_ESP_NAO_UTILIZA\",\"ID_PROPOSTA_PEDAG_ALTERNANCIA\")\n",
    "escolas14 <- escolas14[vars]"
   ]
  },
  {
   "cell_type": "markdown",
   "metadata": {},
   "source": [
    "## Separando por categoria administrativa\n",
    "Os dados das quatro categorias adiministrativas serão separados:\n",
    "1 = Federal\n",
    "2 = Estadual\n",
    "3 = Municipal\n",
    "4 = Particular\n",
    "Também serão selecionados os casos onde a categoria é publica (pra contrastar com a privada)"
   ]
  },
  {
   "cell_type": "code",
   "execution_count": 3,
   "metadata": {
    "collapsed": true
   },
   "outputs": [],
   "source": [
    "#SALVANDO----\n",
    "setwd(\"C:/Users/Vini/Documents/TCC/Working/Nov2016\")\n",
    "write.csv2(escolas14, \"[1]escolas14-limpo--v1--20-11-2016.csv\")\n",
    "\n",
    "escolas14Federal <- subset(escolas14, ID_DEPENDENCIA_ADM==1)\n",
    "escolas14Estadual <- subset(escolas14, ID_DEPENDENCIA_ADM==2)\n",
    "escolas14Municipal <- subset(escolas14, ID_DEPENDENCIA_ADM==3)\n",
    "escolas14Particular <- subset(escolas14, ID_DEPENDENCIA_ADM==4)\n",
    "escolas14Publica <- subset(escolas14, ID_DEPENDENCIA_ADM!=4)\n",
    "#write.csv2(escolas14Federal, \"[1]escolas14Federal--v1--20-11-2016.csv\")\n",
    "#write.csv2(escolas14Estadual, \"[1]escolas14Estadual--v1--20-11-2016.csv\")\n",
    "#write.csv2(escolas14Municipal, \"[1]escolas14Municipal--v1--20-11-2016.csv\")\n",
    "write.csv2(escolas14Particular, \"[1]escolas14Particular--v1--20-11-2016.csv\")\n",
    "write.csv2(escolas14Publica, \"[1]escolas14Publica--v1--20-11-2016.csv\")"
   ]
  },
  {
   "cell_type": "code",
   "execution_count": null,
   "metadata": {
    "collapsed": true
   },
   "outputs": [],
   "source": []
  }
 ],
 "metadata": {
  "anaconda-cloud": {},
  "kernelspec": {
   "display_name": "R",
   "language": "R",
   "name": "ir"
  },
  "language_info": {
   "codemirror_mode": "r",
   "file_extension": ".r",
   "mimetype": "text/x-r-source",
   "name": "R",
   "pygments_lexer": "r",
   "version": "3.3.0"
  }
 },
 "nbformat": 4,
 "nbformat_minor": 1
}
