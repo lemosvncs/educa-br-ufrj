{
 "cells": [
  {
   "cell_type": "markdown",
   "metadata": {
    "nbpresent": {
     "id": "cf9dafa2-bd82-45e0-bec9-fffd70eabe82"
    }
   },
   "source": [
    "### ENEM: Escolhendo variáveis\n",
    "Devido ao tamanho grande do arquivo (=~ 7GBs), variáveis são selecionadas na leitura"
   ]
  },
  {
   "cell_type": "code",
   "execution_count": 6,
   "metadata": {
    "collapsed": true,
    "nbpresent": {
     "id": "7059a57a-05df-41db-adff-81f8be7cb2bb"
    }
   },
   "outputs": [],
   "source": [
    "setwd(\"~/TCC/Dados/ENEM 2014/DADOS\")\n",
    "varEnem14 <- c(\"NULL\",\"NULL\",NA,\"NULL\",NA,NA,\"NULL\",\"NULL\",\"NULL\",\"NULL\",\"NULL\",\"NULL\",NA,\"NULL\",\"NULL\",NA,NA,NA,\"NULL\",\"NULL\",\"NULL\",\"NULL\",NA,\"NULL\",\"NULL\",\"NULL\",NA,NA,\"NULL\",\"NULL\",\"NULL\",\"NULL\",\"NULL\",\"NULL\",\"NULL\",\"NULL\",\"NULL\",\"NULL\",\"NULL\",\"NULL\",\"NULL\",\"NULL\",\"NULL\",\"NULL\",\"NULL\",\"NULL\",\"NULL\",\"NULL\",\"NULL\",\"NULL\",\"NULL\",\"NULL\",\"NULL\",\"NULL\",\"NULL\",\"NULL\",\"NULL\",\"NULL\",NA,\"NULL\",\"NULL\",\"NULL\",NA,NA,NA,NA,\"NULL\",\"NULL\",\"NULL\",\"NULL\",NA,NA,NA,NA,\"NULL\",\"NULL\",\"NULL\",\"NULL\",NA,\"NULL\",\"NULL\",\"NULL\",\"NULL\",NA,\"NULL\",\"NULL\",\"NULL\",\"NULL\",\"NULL\",NA,\"NULL\",\"NULL\",\"NULL\",\"NULL\",\"NULL\",\"NULL\",\"NULL\",\"NULL\",\"NULL\",\"NULL\",\"NULL\",\"NULL\",\"NULL\",\"NULL\",\"NULL\",\"NULL\",\"NULL\",\"NULL\",\"NULL\",\"NULL\",\"NULL\",\"NULL\",\"NULL\",\"NULL\",\"NULL\",\"NULL\",\"NULL\",\"NULL\",\"NULL\",\"NULL\",\"NULL\",\"NULL\",\"NULL\",\"NULL\", \"NULL\",\"NULL\",\"NULL\",\"NULL\",\"NULL\",\"NULL\",\"NULL\",\"NULL\",\"NULL\",\"NULL\",\"NULL\",\"NULL\",\"NULL\",\"NULL\",\"NULL\",\"NULL\",\"NULL\",\"NULL\",\"NULL\",\"NULL\",\"NULL\",\"NULL\",\"NULL\",\"NULL\",\"NULL\",\"NULL\",\"NULL\",\"NULL\",\"NULL\",\"NULL\",\"NULL\",\"NULL\",\"NULL\",\"NULL\",\"NULL\",\"NULL\",\"NULL\",\"NULL\",\"NULL\",\"NULL\",\"NULL\",\"NULL\")\n",
    "enem14 <- read.table(\"MICRODADOS_ENEM_2014.csv\", header = T, sep=\",\", colClasses = varEnem14)"
   ]
  },
  {
   "cell_type": "code",
   "execution_count": 7,
   "metadata": {
    "collapsed": false,
    "nbpresent": {
     "id": "faaf5573-341c-450e-b3a9-5d1fd1cb514c"
    }
   },
   "outputs": [],
   "source": [
    "enem14 <- subset(enem14, ST_CONCLUSAO==1 | ST_CONCLUSAO==2) #Concluiu o Ensino Médio ou irá concluir em 2014\n",
    "enem14 <- subset(enem14, IN_PRESENCA_CN==1 & IN_PRESENCA_CH==1 & IN_PRESENCA_LC==1 & IN_PRESENCA_MT==1)\n",
    "enem14 <- subset(enem14, IN_STATUS_REDACAO==7)"
   ]
  },
  {
   "cell_type": "markdown",
   "metadata": {
    "nbpresent": {
     "id": "3353d6ba-87f6-4716-883a-da6c7d31cd0c"
    }
   },
   "source": [
    "#### Tirando as variáveis utilizadas acima"
   ]
  },
  {
   "cell_type": "code",
   "execution_count": 8,
   "metadata": {
    "collapsed": true,
    "nbpresent": {
     "id": "8dc975bb-ba06-48c8-82f2-cbd69fe9e57a"
    }
   },
   "outputs": [],
   "source": [
    "enem14$ST_CONCLUSAO <- NULL\n",
    "enem14$IN_PRESENCA_CN <- NULL\n",
    "enem14$IN_PRESENCA_CH <- NULL\n",
    "enem14$IN_PRESENCA_LC <- NULL\n",
    "enem14$IN_PRESENCA_MT <- NULL\n",
    "enem14$IN_STATUS_REDACAO <- NULL"
   ]
  },
  {
   "cell_type": "code",
   "execution_count": 10,
   "metadata": {
    "collapsed": false,
    "nbpresent": {
     "id": "ea1102fa-e7ca-4a9b-8fdc-d4987a12c54d"
    }
   },
   "outputs": [],
   "source": [
    "enem14Federal <- subset(enem14, ID_DEPENDENCIA_ADM_ESC==1)\n",
    "enem14Estadual <- subset(enem14, ID_DEPENDENCIA_ADM_ESC==2)\n",
    "enem14Municipal <- subset(enem14, ID_DEPENDENCIA_ADM_ESC==3)\n",
    "enem14Privada <- subset(enem14, ID_DEPENDENCIA_ADM_ESC==4)\n",
    "enem14Publica <- subset(enem14, ID_DEPENDENCIA_ADM_ESC!=4)\n",
    "#write.csv2(enem14Federal, \"[1]enem14Federal--v3--15-11-2016.csv\")\n",
    "#write.csv2(enem14Estadual, \"[1]enem14Estadual--v3--15-11-2016.csv\")\n",
    "#write.csv2(enem14Municipal, \"[1]enem14Municipal--v3--15-11-2016.csv\")\n",
    "write.csv2(enem14Privada, \"[1]enem14Privada--v3--15-11-2016.csv\")\n",
    "write.csv2(enem14Publica, \"[1]enem14Publica--v3--15-11-2016.csv\")\n",
    "write.csv2(enem14, \"[1]enem14--v3--15-11-2016.csv\")"
   ]
  },
  {
   "cell_type": "code",
   "execution_count": null,
   "metadata": {
    "collapsed": true,
    "nbpresent": {
     "id": "fc99ca5b-dbb7-4efc-aa22-49fd83e12799"
    }
   },
   "outputs": [],
   "source": []
  },
  {
   "cell_type": "code",
   "execution_count": null,
   "metadata": {
    "collapsed": true
   },
   "outputs": [],
   "source": []
  }
 ],
 "metadata": {
  "anaconda-cloud": {},
  "kernelspec": {
   "display_name": "R",
   "language": "R",
   "name": "ir"
  },
  "language_info": {
   "codemirror_mode": "r",
   "file_extension": ".r",
   "mimetype": "text/x-r-source",
   "name": "R",
   "pygments_lexer": "r",
   "version": "3.3.0"
  }
 },
 "nbformat": 4,
 "nbformat_minor": 1
}
