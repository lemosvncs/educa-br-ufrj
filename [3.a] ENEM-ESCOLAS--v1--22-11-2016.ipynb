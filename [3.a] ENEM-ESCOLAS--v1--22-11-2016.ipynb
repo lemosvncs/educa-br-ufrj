{
 "cells": [
  {
   "cell_type": "code",
   "execution_count": null,
   "metadata": {
    "collapsed": true
   },
   "outputs": [],
   "source": [
    "#PUBLICAS\n",
    "setwd(\"~/TCC/Working/Nov2016\")\n",
    "enem <- read.csv2(\"[2]enem14--Publica--v1--15-11-2016.csv\")\n",
    "escolas <- read.csv2(\"[2]escolas--publicas--v1--20-11-2016.csv\")\n",
    "colnames(escolas)[2] <- \"munescolas\"\n",
    "\n",
    "#ENEM + escolas\n",
    "selescolas <- enem$dfEnem[match(escolas$munescolas, enem$dfEnem)]\n",
    "escolas <- subset(escolas, escolas$munescolas==selescolas)\n",
    "selfinal <- escolas$munescolas[match(enem$dfEnem, escolas$munescolas)]\n",
    "enem <- subset(enem, enem$dfEnem==selfinal)\n",
    "enem[, 32:120] <- escolas\n",
    "\n",
    "write.csv2(enem, \"[3.a]enem_escolas--Publica--v1--22-11-2016.csv\")"
   ]
  },
  {
   "cell_type": "code",
   "execution_count": null,
   "metadata": {
    "collapsed": true
   },
   "outputs": [],
   "source": [
    "#PRIVADAS----\n",
    "setwd(\"~/TCC/Working/Nov2016\")\n",
    "enem <- read.csv2(\"[2]enem14--Privada--v1--15-11-2016.csv\")\n",
    "escolas <- read.csv2(\"[2]escolas--particular--v1--20-11-2016.csv\")\n",
    "colnames(escolas)[2] <- \"munescolas\"\n",
    "\n",
    "#ENEM + escolas\n",
    "selescolas <- enem$dfEnem[match(escolas$munescolas, enem$dfEnem)]\n",
    "escolas <- subset(escolas, escolas$munescolas==selescolas)\n",
    "selfinal <- escolas$munescolas[match(enem$dfEnem, escolas$munescolas)]\n",
    "enem <- subset(enem, enem$dfEnem==selfinal)\n",
    "enem[, 32:120] <- escolas\n",
    "\n",
    "write.csv2(enem, \"[3.a]enem_escolas--Particular--v1--22-11-2016.csv\")"
   ]
  }
 ],
 "metadata": {
  "anaconda-cloud": {},
  "kernelspec": {
   "display_name": "R",
   "language": "R",
   "name": "ir"
  },
  "language_info": {
   "codemirror_mode": "r",
   "file_extension": ".r",
   "mimetype": "text/x-r-source",
   "name": "R",
   "pygments_lexer": "r",
   "version": "3.3.0"
  }
 },
 "nbformat": 4,
 "nbformat_minor": 1
}
