{
 "cells": [
  {
   "cell_type": "code",
   "execution_count": 2,
   "metadata": {
    "collapsed": false
   },
   "outputs": [],
   "source": [
    "library(dplyr)\n",
    "setwd(\"~/TCC/Working/Nov2016\")\n",
    "#turmas14 <- read.csv2(\"turmas14--limpo--v3--10-11-2016.csv\")\n",
    "#turmas14 <- read.csv2(\"turmas14Federal--v1.1--11-11-2016.csv\")\n",
    "#turmas14 <- read.csv2(\"turmas14Estadual--v1.1--11-11-2016.csv\")\n",
    "#turmas14 <- read.csv2(\"turmas14Municipal--v1.1--11-11-2016.csv\")\n",
    "#turmas14 <- read.csv2(\"[1]turmas14Particular--v2--15-11-2016.csv\")\n",
    "turmas14 <- read.csv2(\"[1]turmas14Publica--v2--15-11-2016.csv\")\n",
    "\n",
    "\n",
    "turmas <- as.factor(turmas14$FK_COD_MUNICIPIO)\n",
    "turmas <- sort(turmas)\n",
    "turmas <- matrix(turmas)\n",
    "turmas <- unique(turmas)\n",
    "turmas <- data.frame(turmas)\n",
    "\n",
    "#turmas[,2:5] <- table(turmas14$FK_COD_MUNICIPIO, turmas14$ID_DEPENDENCIA_ADM)\n",
    "turmas[,2:5] <- NA\n",
    "turmas[,6:7] <- table(turmas14$FK_COD_MUNICIPIO, turmas14$ID_QUIMICA)\n",
    "turmas[,8:9] <- table(turmas14$FK_COD_MUNICIPIO, turmas14$ID_FISICA)\n",
    "turmas[,10:11] <- table(turmas14$FK_COD_MUNICIPIO, turmas14$ID_MATEMATICA)\n",
    "turmas[,12:13] <- table(turmas14$FK_COD_MUNICIPIO, turmas14$ID_BIOLOGIA)\n",
    "turmas[,14:15] <- table(turmas14$FK_COD_MUNICIPIO, turmas14$ID_LINGUA_LITERAT_PORTUGUESA)\n",
    "turmas[,16:17] <- table(turmas14$FK_COD_MUNICIPIO, turmas14$ID_LINGUA_LITERAT_INGLES)\n",
    "turmas[,18:19] <- table(turmas14$FK_COD_MUNICIPIO, turmas14$ID_LINGUA_LITERAT_ESPANHOL)\n",
    "turmas[,20:21] <- table(turmas14$FK_COD_MUNICIPIO, turmas14$ID_LINGUA_LITERAT_FRANCES)\n",
    "turmas[,22:23] <- table(turmas14$FK_COD_MUNICIPIO, turmas14$ID_LINGUA_LITERAT_OUTRA)\n",
    "turmas[,24:25] <- table(turmas14$FK_COD_MUNICIPIO, turmas14$ID_LINGUA_LITERAT_INDIGENA)\n",
    "turmas[,26:27] <- table(turmas14$FK_COD_MUNICIPIO, turmas14$ID_ARTES)\n",
    "turmas[,28:29] <- table(turmas14$FK_COD_MUNICIPIO, turmas14$ID_EDUCACAO_FISICA)\n",
    "turmas[,30:31] <- table(turmas14$FK_COD_MUNICIPIO, turmas14$ID_HISTORIA)\n",
    "turmas[,32:33] <- table(turmas14$FK_COD_MUNICIPIO, turmas14$ID_GEOGRAFIA)\n",
    "turmas[,34:35] <- table(turmas14$FK_COD_MUNICIPIO, turmas14$ID_FILOSOFIA)\n",
    "turmas[,36:37] <- table(turmas14$FK_COD_MUNICIPIO, turmas14$ID_ENSINO_RELIGIOSO)\n",
    "turmas[, 38:39] <- table(turmas14$FK_COD_MUNICIPIO, turmas14$ID_SOCIOLOGIA)\n",
    "turmas[,40:41] <- table(turmas14$FK_COD_MUNICIPIO, turmas14$ID_INFORMATICA_COMPUTACAO)\n",
    "turmas[,42:43] <- table(turmas14$FK_COD_MUNICIPIO, turmas14$ID_DISCIPLINAS_PEDAG)\n",
    "\n",
    "colnames(turmas)[2:43] <- c(\"adm1\", \"adm2\", \"adm3\", \"adm4\", \"quimica0\", \"quimica1\", \"fisica0\", \"fisica1\",\n",
    "                            \"mat0\", \"mat1\", \"bio0\", \"bio1\", \"port0\", \"port1\", \"ing0\", \"ing1\", \"esp0\", \"esp1\",\"frances0\", \"frances1\",\n",
    "                            \"outra0\", \"outra1\", \"indigena0\", \"indigena1\", \"artes0\", \"artes1\", \"edfisica0\", \"edfisica1\",\n",
    "                            \"hist0\", \"hist1\", \"geo0\", \"geo1\", \"filosofia0\", \"filosofia1\", \"ensreligioso0\", \"ensreligioso1\",\n",
    "                            \"sociologia0\", \"sociologia1\", \"inf0\", \"inf1\", \"pedag0\", \"pedag1\")\n",
    "\n",
    "mdp <- turmas14%>%\n",
    "  group_by(FK_COD_MUNICIPIO)%>%\n",
    "  summarise(mean(NU_DURACAO_TURMA), sd(NU_DURACAO_TURMA))\n",
    "turmas[,44:45] <- mdp[,2:3]\n",
    "mdp <- NULL\n",
    "\n",
    "turmas[,46] <- turmas$media_duracaoturma/turmas$desvio_duracaoturma\n",
    "colnames(turmas)[44:46] <- c(\"media_duracaoturma\", \"desvio_duracaoturma\", \"duracao_index\")"
   ]
  },
  {
   "cell_type": "code",
   "execution_count": 3,
   "metadata": {
    "collapsed": true
   },
   "outputs": [],
   "source": [
    "write.csv2(turmas, \"[2]turmas14--Publica--v1--15-11-2016.csv\")\n",
    "#write.csv2(turmas, \"[2]turmas14--Privada--v1--15-11-2016.csv\")\n",
    "#write.csv2(turmas, \"turmas14--Federal--v1--11-11-2016.csv\")\n",
    "#write.csv2(turmas, \"turmas14--Estadual--v1--11-11-2016.csv\")\n",
    "#write.csv2(turmas, \"turmas14--Municipal--v1--11-11-2016.csv\")"
   ]
  },
  {
   "cell_type": "markdown",
   "metadata": {},
   "source": [
    "## CONTINUAR SOMENTE SE NÃO FOREM DADOS SEPARADOS POR CATEGORIA ADMINISTRATIVA"
   ]
  },
  {
   "cell_type": "code",
   "execution_count": null,
   "metadata": {
    "collapsed": true
   },
   "outputs": [],
   "source": [
    "#Funções----\n",
    "porc4 <- function(a, b, c, d)\n",
    "{\n",
    "  total <- a+b+c+d\n",
    "  return(a*100/total)\n",
    "}\n",
    "\n",
    "porc <- function(a, b)\n",
    "{\n",
    "  total <- a+b\n",
    "  return(a*100/total)\n",
    "}\n",
    "\n",
    "#Porcentagens e Z----\n",
    "fturmas <- as.factor(turmas14$FK_COD_MUNICIPIO)\n",
    "fturmas <- sort(fturmas)\n",
    "fturmas <- matrix(fturmas)\n",
    "fturmas <- unique(fturmas)\n",
    "fturmas <- data.frame(fturmas)\n",
    "\n",
    "fturmas[,2] <- porc4(turmas$adm1, turmas$adm2, turmas$adm3, turmas$adm4)\n",
    "fturmas[,3] <- porc4(turmas$adm2, turmas$adm1, turmas$adm3, turmas$adm4)\n",
    "fturmas[,4] <- porc4(turmas$adm3, turmas$adm2, turmas$adm1, turmas$adm4)\n",
    "fturmas[,5] <- porc4(turmas$adm4, turmas$adm2, turmas$adm3, turmas$adm1)\n",
    "fturmas[,6] <- porc(turmas$quimica1, turmas$quimica0)\n",
    "fturmas[,7] <- porc(turmas$fisica1, turmas$fisica0)\n",
    "fturmas[,8] <- porc(turmas$mat1, turmas$mat0)\n",
    "fturmas[,9] <- porc(turmas$bio1, turmas$bio0)\n",
    "fturmas[,10] <- porc(turmas$port1, turmas$port0)\n",
    "fturmas[,11] <- porc(turmas$ing1, turmas$ing0)\n",
    "fturmas[,12] <- porc(turmas$esp1, turmas$esp0)\n",
    "fturmas[,13] <- porc(turmas$frances1, turmas$frances0)\n",
    "fturmas[,14] <- porc(turmas$outra1, turmas$outra0)\n",
    "fturmas[,15] <- porc(turmas$indigena1, turmas$indigena0)\n",
    "fturmas[,16] <- porc(turmas$artes1, turmas$artes0)\n",
    "fturmas[,17] <- porc(turmas$edfisica1, turmas$edfisica0)\n",
    "fturmas[,18] <- porc(turmas$hist1, turmas$hist0)\n",
    "fturmas[,19] <- porc(turmas$geo1, turmas$geo0)\n",
    "fturmas[,20] <- porc(turmas$filosofia1, turmas$filosofia0)\n",
    "fturmas[,21] <- porc(turmas$ensreligioso1, turmas$ensreligioso0)\n",
    "fturmas[,22] <- porc(turmas$sociologia1, turmas$sociologia0)\n",
    "fturmas[,23] <- porc(turmas$inf1, turmas$inf0)\n",
    "fturmas[,24] <- porc(turmas$pedag1, turmas$pedag0)\n",
    "fturmas[,25] <- scale(na_if(turmas$duracao_index, Inf))\n",
    "\n",
    "colnames(fturmas)[2:25] <- c(\"federal\", \"estadual\", \"municipal\", \"particular\", \"quimica\", \"fisica\", \"mat\", \"bio\", \"port\", \"ing\", \"esp\",\n",
    "                             \"frances\", \"outralingua\", \"linguaindigena\", \"artes\", \"edfisica\", \"hist\", \"geo\", \"filosofia\", \"ensreligioso\",\n",
    "                             \"socilogia\", \"inf\", \"pedag\", \"duracao_turmas\")\n",
    "\n",
    "#write.csv2(fturmas, \"turmas14--final--v1--11-11-2016.csv\")"
   ]
  }
 ],
 "metadata": {
  "anaconda-cloud": {},
  "kernelspec": {
   "display_name": "R",
   "language": "R",
   "name": "ir"
  },
  "language_info": {
   "codemirror_mode": "r",
   "file_extension": ".r",
   "mimetype": "text/x-r-source",
   "name": "R",
   "pygments_lexer": "r",
   "version": "3.3.0"
  }
 },
 "nbformat": 4,
 "nbformat_minor": 1
}
