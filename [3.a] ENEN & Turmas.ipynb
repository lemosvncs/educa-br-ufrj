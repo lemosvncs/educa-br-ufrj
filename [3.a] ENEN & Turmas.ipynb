{
 "cells": [
  {
   "cell_type": "code",
   "execution_count": 3,
   "metadata": {
    "collapsed": false,
    "scrolled": false
   },
   "outputs": [],
   "source": [
    "#PUBLICAS\n",
    "setwd(\"~/TCC/Working/Nov2016\")\n",
    "enem <- read.csv2(\"[2]enem14--Publica--v1--15-11-2016.csv\")\n",
    "turmas <- read.csv2(\"[2]turmas14--Publica--v1--15-11-2016.csv\")\n",
    "colnames(turmas)[2] <- \"munturmas\"\n",
    "\n",
    "#ENEM + turmas\n",
    "selturmas <- enem$dfEnem[match(turmas$munturmas, enem$dfEnem)]\n",
    "turmas <- subset(turmas, turmas$munturmas==selturmas)\n",
    "selfinal <- turmas$munturmas[match(enem$dfEnem, turmas$munturmas)]\n",
    "enem <- subset(enem, enem$dfEnem==selfinal)\n",
    "enem[, 32:78] <- turmas\n",
    "\n",
    "write.csv2(enem, \"[3.a]enem_turmas--Publica--v1--25-11-2016.csv\")"
   ]
  },
  {
   "cell_type": "code",
   "execution_count": 2,
   "metadata": {
    "collapsed": false
   },
   "outputs": [],
   "source": [
    "#PRIVADAS----\n",
    "setwd(\"~/TCC/Working/Nov2016\")\n",
    "enem <- read.csv2(\"[2]enem14--Privada--v1--15-11-2016.csv\")\n",
    "turmas <- read.csv2(\"[2]turmas14--Privada--v1--15-11-2016.csv\")\n",
    "colnames(turmas)[2] <- \"munturmas\"\n",
    "\n",
    "#ENEM + turmas\n",
    "selturmas <- enem$dfEnem[match(turmas$munturmas, enem$dfEnem)]\n",
    "turmas <- subset(turmas, turmas$munturmas==selturmas)\n",
    "\n",
    "selfinal <- turmas$munturmas[match(enem$dfEnem, turmas$munturmas)]\n",
    "enem <- subset(enem, enem$dfEnem==selfinal)\n",
    "enem[, 32:78] <- turmas\n",
    "\n",
    "write.csv2(enem, \"[3.a]enem_turmas--Privada--v1--24-11-2016.csv\")"
   ]
  },
  {
   "cell_type": "code",
   "execution_count": null,
   "metadata": {
    "collapsed": true
   },
   "outputs": [],
   "source": []
  }
 ],
 "metadata": {
  "kernelspec": {
   "display_name": "R",
   "language": "R",
   "name": "ir"
  },
  "language_info": {
   "codemirror_mode": "r",
   "file_extension": ".r",
   "mimetype": "text/x-r-source",
   "name": "R",
   "pygments_lexer": "r",
   "version": "3.3.0"
  }
 },
 "nbformat": 4,
 "nbformat_minor": 1
}
